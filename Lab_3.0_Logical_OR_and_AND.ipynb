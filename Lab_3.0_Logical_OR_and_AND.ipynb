{
 "cells": [
  {
   "cell_type": "code",
   "execution_count": 13,
   "id": "781f87ad",
   "metadata": {},
   "outputs": [],
   "source": [
    "import numpy as np\n",
    "import pandas as pd\n",
    "import matplotlib.pyplot as plt"
   ]
  },
  {
   "cell_type": "code",
   "execution_count": null,
   "id": "dcf6f3df",
   "metadata": {},
   "outputs": [],
   "source": []
  },
  {
   "cell_type": "markdown",
   "id": "8f7312d4",
   "metadata": {},
   "source": [
    "### Logical AND"
   ]
  },
  {
   "cell_type": "code",
   "execution_count": 29,
   "id": "a3c08c7f",
   "metadata": {},
   "outputs": [],
   "source": [
    "def logicalAND(x1,x2,w1,w2,b):\n",
    "    x = np.array([x1,x2])\n",
    "    w = np.array([w1,w2])\n",
    "    yin = np.dot(x,w) + b\n",
    "    print(\"yin: \", yin)\n",
    "    \n",
    "    if(yin < 0):\n",
    "        print(\"y: 0\")\n",
    "    else:\n",
    "        print(\"y: 1\")"
   ]
  },
  {
   "cell_type": "code",
   "execution_count": 43,
   "id": "045cf6c8",
   "metadata": {},
   "outputs": [
    {
     "name": "stdout",
     "output_type": "stream",
     "text": [
      "yin:  0.5\n",
      "y: 1\n"
     ]
    }
   ],
   "source": [
    "logicalAND(1,1,1,1,-1.5)"
   ]
  },
  {
   "cell_type": "code",
   "execution_count": null,
   "id": "a0e2f204",
   "metadata": {},
   "outputs": [],
   "source": []
  },
  {
   "cell_type": "code",
   "execution_count": null,
   "id": "b29d8f3e",
   "metadata": {},
   "outputs": [],
   "source": []
  },
  {
   "cell_type": "markdown",
   "id": "801c6036",
   "metadata": {},
   "source": [
    "### Logical OR"
   ]
  },
  {
   "cell_type": "code",
   "execution_count": 31,
   "id": "efa9e250",
   "metadata": {},
   "outputs": [],
   "source": [
    "def logicalOR(x1,x2,w1,w2,b):\n",
    "    x = np.array([x1,x2])\n",
    "    w = np.array([w1,w2])\n",
    "    yin = np.dot(x,w) + b\n",
    "    print(\"yin: \", yin)\n",
    "    \n",
    "    if(yin < 0):\n",
    "        print(\"y: 0\")\n",
    "    else:\n",
    "        print(\"y: 1\")"
   ]
  },
  {
   "cell_type": "code",
   "execution_count": 51,
   "id": "7cbc47a1",
   "metadata": {},
   "outputs": [
    {
     "name": "stdout",
     "output_type": "stream",
     "text": [
      "yin:  0.5\n",
      "y: 1\n"
     ]
    }
   ],
   "source": [
    "logicalOR(0,1,1,1,-0.5)"
   ]
  },
  {
   "cell_type": "code",
   "execution_count": null,
   "id": "9ed17064",
   "metadata": {},
   "outputs": [],
   "source": []
  },
  {
   "cell_type": "code",
   "execution_count": null,
   "id": "1d6bbdcf",
   "metadata": {},
   "outputs": [],
   "source": []
  },
  {
   "cell_type": "markdown",
   "id": "4dd147be",
   "metadata": {},
   "source": []
  },
  {
   "cell_type": "code",
   "execution_count": 45,
   "id": "57867840",
   "metadata": {},
   "outputs": [],
   "source": []
  },
  {
   "cell_type": "code",
   "execution_count": null,
   "id": "1afec09e",
   "metadata": {},
   "outputs": [],
   "source": []
  }
 ],
 "metadata": {
  "kernelspec": {
   "display_name": "Python 3 (ipykernel)",
   "language": "python",
   "name": "python3"
  },
  "language_info": {
   "codemirror_mode": {
    "name": "ipython",
    "version": 3
   },
   "file_extension": ".py",
   "mimetype": "text/x-python",
   "name": "python",
   "nbconvert_exporter": "python",
   "pygments_lexer": "ipython3",
   "version": "3.11.2"
  }
 },
 "nbformat": 4,
 "nbformat_minor": 5
}
