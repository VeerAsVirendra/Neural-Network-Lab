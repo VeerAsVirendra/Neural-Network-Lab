{
 "cells": [
  {
   "cell_type": "code",
   "execution_count": 61,
   "id": "4db3b616",
   "metadata": {},
   "outputs": [],
   "source": [
    "import numpy as np"
   ]
  },
  {
   "cell_type": "code",
   "execution_count": null,
   "id": "6b511a66",
   "metadata": {},
   "outputs": [],
   "source": []
  },
  {
   "cell_type": "code",
   "execution_count": 69,
   "id": "b9c44d30",
   "metadata": {},
   "outputs": [],
   "source": [
    "# Initial Weight Matrix is:- \n",
    "w = np.array([[0.2, 0.6, 0.4, 0.9, 0.2],\n",
    "             [0.3, 0.5, 0.7, 0.6, 0.8]])\n",
    "\n",
    "\n",
    "# Units\n",
    "x = [0.3, 0.4]\n",
    "\n",
    "# Learning Rate(a):\n",
    "a = 0.3"
   ]
  },
  {
   "cell_type": "code",
   "execution_count": null,
   "id": "dacd2911",
   "metadata": {},
   "outputs": [],
   "source": []
  },
  {
   "cell_type": "markdown",
   "id": "73884700",
   "metadata": {},
   "source": [
    "### Finding Winning Cluster or Cluster having minimum Euclidian Distance"
   ]
  },
  {
   "cell_type": "code",
   "execution_count": 64,
   "id": "0981dfee",
   "metadata": {},
   "outputs": [],
   "source": [
    "def winningCluster(w, x):\n",
    "    r = w.shape[0]  # Numbers of Rows or Units\n",
    "    c = w.shape[1]  # Number of Cols or Clusters\n",
    "    miniDist = 999\n",
    "    miniIndex = -1\n",
    "    \n",
    "    for i in range(c):\n",
    "        d = 0\n",
    "        for j in range(r):\n",
    "            d += (w[j][i]-x[j])**2\n",
    "            \n",
    "        if(d<miniDist):\n",
    "            miniDist = d\n",
    "            miniIndex = i\n",
    "            \n",
    "    return miniIndex"
   ]
  },
  {
   "cell_type": "code",
   "execution_count": null,
   "id": "3296cb56",
   "metadata": {},
   "outputs": [],
   "source": []
  },
  {
   "cell_type": "markdown",
   "id": "3645040e",
   "metadata": {},
   "source": [
    "### Updation of Weights"
   ]
  },
  {
   "cell_type": "code",
   "execution_count": 66,
   "id": "bebc592e",
   "metadata": {},
   "outputs": [],
   "source": [
    "# Here cNum is Cluster Number\n",
    "def updateWeights(w, cNum, a, x):\n",
    "    r = w.shape[0]  # Numbers of Rows or Units\n",
    "    for i in range(r):\n",
    "        w[i][cNum] = w[i][cNum] + a*(x[i]-w[i][cNum])\n",
    "\n",
    "\n"
   ]
  },
  {
   "cell_type": "code",
   "execution_count": null,
   "id": "795e4e14",
   "metadata": {},
   "outputs": [],
   "source": []
  },
  {
   "cell_type": "markdown",
   "id": "494f6147",
   "metadata": {},
   "source": [
    "### Applying SOM"
   ]
  },
  {
   "cell_type": "code",
   "execution_count": 70,
   "id": "7293a105",
   "metadata": {},
   "outputs": [
    {
     "name": "stdout",
     "output_type": "stream",
     "text": [
      "Winning Cluster Number is:  0\n",
      "\n",
      "Updated weights of Winning Cluster i.e. Cluster Number  0  is: \n",
      " [[0.23 0.6  0.4  0.9  0.2 ]\n",
      " [0.33 0.5  0.7  0.6  0.8 ]]\n",
      "\n",
      "Cluster Number  -1  is not Available\n",
      "\n",
      "Updated weights of Cluster Number  1  is: \n",
      " [[0.23 0.51 0.4  0.9  0.2 ]\n",
      " [0.33 0.47 0.7  0.6  0.8 ]]\n"
     ]
    }
   ],
   "source": [
    "cj = winningCluster(w, x)\n",
    "print(\"Winning Cluster Number is: \", cj)\n",
    "updateWeights(w, cj, a, x)\n",
    "print(\"\\nUpdated weights of Winning Cluster i.e. Cluster Number \", cj, \" is: \\n\", w)\n",
    "\n",
    "if((cj-1) < 1):\n",
    "    print(\"\\nCluster Number \", cj-1, \" is not Available\")\n",
    "else:\n",
    "    updateWeights(w, cj-1, a, x)\n",
    "    print(\"\\nUpdated weights of Cluster Number \", cj-1, \" is: \\n\", w)\n",
    "    \n",
    "if((cj+1) >= w.shape[1]):\n",
    "    print(\"\\nCluster Number \", cj+1, \" is not Available\")\n",
    "else:\n",
    "    updateWeights(w, cj+1, a, x)\n",
    "    print(\"\\nUpdated weights of Cluster Number \", cj+1, \" is: \\n\", w)\n",
    "    \n",
    "    "
   ]
  }
 ],
 "metadata": {
  "kernelspec": {
   "display_name": "Python 3 (ipykernel)",
   "language": "python",
   "name": "python3"
  },
  "language_info": {
   "codemirror_mode": {
    "name": "ipython",
    "version": 3
   },
   "file_extension": ".py",
   "mimetype": "text/x-python",
   "name": "python",
   "nbconvert_exporter": "python",
   "pygments_lexer": "ipython3",
   "version": "3.11.2"
  }
 },
 "nbformat": 4,
 "nbformat_minor": 5
}
