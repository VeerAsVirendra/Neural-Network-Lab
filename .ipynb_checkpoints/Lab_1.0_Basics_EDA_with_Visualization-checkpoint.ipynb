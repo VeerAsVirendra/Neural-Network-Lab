{
 "cells": [
  {
   "cell_type": "code",
   "execution_count": 3,
   "id": "e5aa385d",
   "metadata": {},
   "outputs": [],
   "source": [
    "import pandas as pd\n",
    "import numpy as np\n",
    "import matplotlib.pyplot as plt"
   ]
  },
  {
   "cell_type": "code",
   "execution_count": null,
   "id": "1754533e",
   "metadata": {},
   "outputs": [],
   "source": []
  },
  {
   "cell_type": "code",
   "execution_count": 7,
   "id": "828f6884",
   "metadata": {},
   "outputs": [
    {
     "data": {
      "text/plain": [
       "(12, 9)"
      ]
     },
     "execution_count": 7,
     "metadata": {},
     "output_type": "execute_result"
    }
   ],
   "source": [
    "my_data1=pd.read_excel(r\"DataSets/Lab1data.xlsx\")\n",
    "my_data1.shape\n",
    "\n",
    "\n"
   ]
  },
  {
   "cell_type": "code",
   "execution_count": null,
   "id": "8a67ed2d",
   "metadata": {},
   "outputs": [],
   "source": []
  },
  {
   "cell_type": "code",
   "execution_count": 8,
   "id": "00161bf5",
   "metadata": {},
   "outputs": [
    {
     "data": {
      "text/plain": [
       "Index(['Stu ID', 'Gender', 'Age', 'Quantitative', 'Verbal', 'Technical',\n",
       "       'Interview', 'Total', 'Results'],\n",
       "      dtype='object')"
      ]
     },
     "execution_count": 8,
     "metadata": {},
     "output_type": "execute_result"
    }
   ],
   "source": [
    "my_data1.columns\n"
   ]
  },
  {
   "cell_type": "code",
   "execution_count": 9,
   "id": "b39f7baf",
   "metadata": {},
   "outputs": [
    {
     "data": {
      "text/html": [
       "<div>\n",
       "<style scoped>\n",
       "    .dataframe tbody tr th:only-of-type {\n",
       "        vertical-align: middle;\n",
       "    }\n",
       "\n",
       "    .dataframe tbody tr th {\n",
       "        vertical-align: top;\n",
       "    }\n",
       "\n",
       "    .dataframe thead th {\n",
       "        text-align: right;\n",
       "    }\n",
       "</style>\n",
       "<table border=\"1\" class=\"dataframe\">\n",
       "  <thead>\n",
       "    <tr style=\"text-align: right;\">\n",
       "      <th></th>\n",
       "      <th>Stu ID</th>\n",
       "      <th>Gender</th>\n",
       "      <th>Age</th>\n",
       "      <th>Quantitative</th>\n",
       "      <th>Verbal</th>\n",
       "      <th>Technical</th>\n",
       "      <th>Interview</th>\n",
       "      <th>Total</th>\n",
       "      <th>Results</th>\n",
       "    </tr>\n",
       "  </thead>\n",
       "  <tbody>\n",
       "    <tr>\n",
       "      <th>0</th>\n",
       "      <td>A892</td>\n",
       "      <td>Male</td>\n",
       "      <td>31.0</td>\n",
       "      <td>22</td>\n",
       "      <td>33.0</td>\n",
       "      <td>35</td>\n",
       "      <td>29</td>\n",
       "      <td>119</td>\n",
       "      <td>0</td>\n",
       "    </tr>\n",
       "    <tr>\n",
       "      <th>1</th>\n",
       "      <td>A985</td>\n",
       "      <td>Male</td>\n",
       "      <td>28.0</td>\n",
       "      <td>46</td>\n",
       "      <td>55.0</td>\n",
       "      <td>70</td>\n",
       "      <td>70</td>\n",
       "      <td>241</td>\n",
       "      <td>1</td>\n",
       "    </tr>\n",
       "  </tbody>\n",
       "</table>\n",
       "</div>"
      ],
      "text/plain": [
       "  Stu ID Gender   Age  Quantitative  Verbal  Technical  Interview  Total  \\\n",
       "0   A892   Male  31.0            22    33.0         35         29    119   \n",
       "1   A985   Male  28.0            46    55.0         70         70    241   \n",
       "\n",
       "   Results  \n",
       "0        0  \n",
       "1        1  "
      ]
     },
     "execution_count": 9,
     "metadata": {},
     "output_type": "execute_result"
    }
   ],
   "source": [
    "my_data1.head(2)"
   ]
  },
  {
   "cell_type": "code",
   "execution_count": null,
   "id": "c9bca1ad",
   "metadata": {},
   "outputs": [],
   "source": []
  },
  {
   "cell_type": "code",
   "execution_count": null,
   "id": "f3c53b99",
   "metadata": {},
   "outputs": [],
   "source": []
  },
  {
   "cell_type": "code",
   "execution_count": 10,
   "id": "1e6108db",
   "metadata": {},
   "outputs": [
    {
     "data": {
      "text/plain": [
       "Stu ID           object\n",
       "Gender           object\n",
       "Age             float64\n",
       "Quantitative      int64\n",
       "Verbal          float64\n",
       "Technical         int64\n",
       "Interview         int64\n",
       "Total             int64\n",
       "Results           int64\n",
       "dtype: object"
      ]
     },
     "execution_count": 10,
     "metadata": {},
     "output_type": "execute_result"
    }
   ],
   "source": [
    "my_data1.dtypes\n"
   ]
  },
  {
   "cell_type": "code",
   "execution_count": null,
   "id": "89e97284",
   "metadata": {},
   "outputs": [],
   "source": []
  },
  {
   "cell_type": "code",
   "execution_count": 11,
   "id": "ef0f2cbf",
   "metadata": {},
   "outputs": [
    {
     "data": {
      "text/html": [
       "<div>\n",
       "<style scoped>\n",
       "    .dataframe tbody tr th:only-of-type {\n",
       "        vertical-align: middle;\n",
       "    }\n",
       "\n",
       "    .dataframe tbody tr th {\n",
       "        vertical-align: top;\n",
       "    }\n",
       "\n",
       "    .dataframe thead th {\n",
       "        text-align: right;\n",
       "    }\n",
       "</style>\n",
       "<table border=\"1\" class=\"dataframe\">\n",
       "  <thead>\n",
       "    <tr style=\"text-align: right;\">\n",
       "      <th></th>\n",
       "      <th>Age</th>\n",
       "      <th>Quantitative</th>\n",
       "      <th>Verbal</th>\n",
       "      <th>Technical</th>\n",
       "      <th>Interview</th>\n",
       "      <th>Total</th>\n",
       "      <th>Results</th>\n",
       "    </tr>\n",
       "  </thead>\n",
       "  <tbody>\n",
       "    <tr>\n",
       "      <th>count</th>\n",
       "      <td>11.000000</td>\n",
       "      <td>12.000000</td>\n",
       "      <td>11.000000</td>\n",
       "      <td>12.000000</td>\n",
       "      <td>12.000000</td>\n",
       "      <td>12.000000</td>\n",
       "      <td>12.000000</td>\n",
       "    </tr>\n",
       "    <tr>\n",
       "      <th>mean</th>\n",
       "      <td>30.090909</td>\n",
       "      <td>45.000000</td>\n",
       "      <td>50.727273</td>\n",
       "      <td>48.500000</td>\n",
       "      <td>41.166667</td>\n",
       "      <td>186.916667</td>\n",
       "      <td>0.416667</td>\n",
       "    </tr>\n",
       "    <tr>\n",
       "      <th>std</th>\n",
       "      <td>2.300198</td>\n",
       "      <td>17.331002</td>\n",
       "      <td>15.060484</td>\n",
       "      <td>13.304135</td>\n",
       "      <td>17.708926</td>\n",
       "      <td>37.497778</td>\n",
       "      <td>0.514929</td>\n",
       "    </tr>\n",
       "    <tr>\n",
       "      <th>min</th>\n",
       "      <td>27.000000</td>\n",
       "      <td>22.000000</td>\n",
       "      <td>23.000000</td>\n",
       "      <td>30.000000</td>\n",
       "      <td>22.000000</td>\n",
       "      <td>119.000000</td>\n",
       "      <td>0.000000</td>\n",
       "    </tr>\n",
       "    <tr>\n",
       "      <th>25%</th>\n",
       "      <td>28.000000</td>\n",
       "      <td>34.250000</td>\n",
       "      <td>42.500000</td>\n",
       "      <td>37.000000</td>\n",
       "      <td>25.500000</td>\n",
       "      <td>172.000000</td>\n",
       "      <td>0.000000</td>\n",
       "    </tr>\n",
       "    <tr>\n",
       "      <th>50%</th>\n",
       "      <td>30.000000</td>\n",
       "      <td>44.500000</td>\n",
       "      <td>55.000000</td>\n",
       "      <td>47.000000</td>\n",
       "      <td>38.500000</td>\n",
       "      <td>188.000000</td>\n",
       "      <td>0.000000</td>\n",
       "    </tr>\n",
       "    <tr>\n",
       "      <th>75%</th>\n",
       "      <td>31.500000</td>\n",
       "      <td>56.000000</td>\n",
       "      <td>62.000000</td>\n",
       "      <td>57.500000</td>\n",
       "      <td>52.250000</td>\n",
       "      <td>209.500000</td>\n",
       "      <td>1.000000</td>\n",
       "    </tr>\n",
       "    <tr>\n",
       "      <th>max</th>\n",
       "      <td>34.000000</td>\n",
       "      <td>72.000000</td>\n",
       "      <td>69.000000</td>\n",
       "      <td>70.000000</td>\n",
       "      <td>70.000000</td>\n",
       "      <td>241.000000</td>\n",
       "      <td>1.000000</td>\n",
       "    </tr>\n",
       "  </tbody>\n",
       "</table>\n",
       "</div>"
      ],
      "text/plain": [
       "             Age  Quantitative     Verbal  Technical  Interview       Total  \\\n",
       "count  11.000000     12.000000  11.000000  12.000000  12.000000   12.000000   \n",
       "mean   30.090909     45.000000  50.727273  48.500000  41.166667  186.916667   \n",
       "std     2.300198     17.331002  15.060484  13.304135  17.708926   37.497778   \n",
       "min    27.000000     22.000000  23.000000  30.000000  22.000000  119.000000   \n",
       "25%    28.000000     34.250000  42.500000  37.000000  25.500000  172.000000   \n",
       "50%    30.000000     44.500000  55.000000  47.000000  38.500000  188.000000   \n",
       "75%    31.500000     56.000000  62.000000  57.500000  52.250000  209.500000   \n",
       "max    34.000000     72.000000  69.000000  70.000000  70.000000  241.000000   \n",
       "\n",
       "         Results  \n",
       "count  12.000000  \n",
       "mean    0.416667  \n",
       "std     0.514929  \n",
       "min     0.000000  \n",
       "25%     0.000000  \n",
       "50%     0.000000  \n",
       "75%     1.000000  \n",
       "max     1.000000  "
      ]
     },
     "execution_count": 11,
     "metadata": {},
     "output_type": "execute_result"
    }
   ],
   "source": [
    "my_data1.describe()"
   ]
  },
  {
   "cell_type": "code",
   "execution_count": null,
   "id": "3f7e8404",
   "metadata": {},
   "outputs": [],
   "source": []
  },
  {
   "cell_type": "code",
   "execution_count": 12,
   "id": "423503fb",
   "metadata": {},
   "outputs": [
    {
     "data": {
      "text/plain": [
       "<Axes: ylabel='Frequency'>"
      ]
     },
     "execution_count": 12,
     "metadata": {},
     "output_type": "execute_result"
    },
    {
     "data": {
      "image/png": "[encoded data removed]",
      "text/plain": [
       "<Figure size 640x480 with 1 Axes>"
      ]
     },
     "metadata": {},
     "output_type": "display_data"
    }
   ],
   "source": [
    "my_data1['Age'].plot.hist(bins=6)\n"
   ]
  },
  {
   "cell_type": "code",
   "execution_count": null,
   "id": "97b87be7",
   "metadata": {},
   "outputs": [],
   "source": []
  },
  {
   "cell_type": "code",
   "execution_count": 13,
   "id": "e03badc1",
   "metadata": {},
   "outputs": [
    {
     "data": {
      "text/plain": [
       "<Axes: >"
      ]
     },
     "execution_count": 13,
     "metadata": {},
     "output_type": "execute_result"
    },
    {
     "data": {
      "image/png": "[encoded data removed]",
      "text/plain": [
       "<Figure size 640x480 with 1 Axes>"
      ]
     },
     "metadata": {},
     "output_type": "display_data"
    }
   ],
   "source": [
    "\n",
    "my_data1['Age'].plot.box()\n"
   ]
  },
  {
   "cell_type": "code",
   "execution_count": null,
   "id": "e4108185",
   "metadata": {},
   "outputs": [],
   "source": []
  },
  {
   "cell_type": "code",
   "execution_count": 14,
   "id": "774beecf",
   "metadata": {},
   "outputs": [
    {
     "data": {
      "text/plain": [
       "Gender\n",
       "Male      6\n",
       "Female    5\n",
       "Name: count, dtype: int64"
      ]
     },
     "execution_count": 14,
     "metadata": {},
     "output_type": "execute_result"
    }
   ],
   "source": [
    "my_data1['Gender'].value_counts()\n"
   ]
  },
  {
   "cell_type": "code",
   "execution_count": null,
   "id": "cb2119c2",
   "metadata": {},
   "outputs": [],
   "source": []
  },
  {
   "cell_type": "code",
   "execution_count": 15,
   "id": "c2740a3f",
   "metadata": {},
   "outputs": [
    {
     "data": {
      "text/plain": [
       "<Axes: xlabel='Gender'>"
      ]
     },
     "execution_count": 15,
     "metadata": {},
     "output_type": "execute_result"
    },
    {
     "data": {
      "image/png": "[encoded data removed]",
      "text/plain": [
       "<Figure size 640x480 with 1 Axes>"
      ]
     },
     "metadata": {},
     "output_type": "display_data"
    }
   ],
   "source": [
    "my_data1['Gender'].value_counts().plot.bar()\n"
   ]
  },
  {
   "cell_type": "code",
   "execution_count": null,
   "id": "856dfa17",
   "metadata": {},
   "outputs": [],
   "source": []
  },
  {
   "cell_type": "code",
   "execution_count": 16,
   "id": "00c20f0e",
   "metadata": {},
   "outputs": [
    {
     "data": {
      "text/plain": [
       "Gender\n",
       "Male      0.500000\n",
       "Female    0.416667\n",
       "Name: count, dtype: float64"
      ]
     },
     "execution_count": 16,
     "metadata": {},
     "output_type": "execute_result"
    }
   ],
   "source": [
    "my_data1['Gender'].value_counts()/len(my_data1['Gender'])"
   ]
  },
  {
   "cell_type": "code",
   "execution_count": null,
   "id": "05e5e0a1",
   "metadata": {},
   "outputs": [],
   "source": []
  },
  {
   "cell_type": "code",
   "execution_count": 17,
   "id": "a3d07de8",
   "metadata": {},
   "outputs": [
    {
     "data": {
      "text/plain": [
       "<Axes: xlabel='Gender'>"
      ]
     },
     "execution_count": 17,
     "metadata": {},
     "output_type": "execute_result"
    },
    {
     "data": {
      "image/png": "[encoded data removed]",
      "text/plain": [
       "<Figure size 640x480 with 1 Axes>"
      ]
     },
     "metadata": {},
     "output_type": "display_data"
    }
   ],
   "source": [
    "(my_data1['Gender'].value_counts()/len(my_data1['Gender'])).plot.bar()"
   ]
  },
  {
   "cell_type": "code",
   "execution_count": null,
   "id": "5a2a63f2",
   "metadata": {},
   "outputs": [],
   "source": []
  },
  {
   "cell_type": "code",
   "execution_count": 18,
   "id": "f161423a",
   "metadata": {},
   "outputs": [
    {
     "data": {
      "text/plain": [
       "<Axes: xlabel='Age', ylabel='Total'>"
      ]
     },
     "execution_count": 18,
     "metadata": {},
     "output_type": "execute_result"
    },
    {
     "data": {
      "image/png": "[encoded data removed]",
      "text/plain": [
       "<Figure size 640x480 with 1 Axes>"
      ]
     },
     "metadata": {},
     "output_type": "display_data"
    }
   ],
   "source": [
    "\n",
    "my_data1.plot.scatter(\"Age\",\"Total\")\n"
   ]
  },
  {
   "cell_type": "code",
   "execution_count": null,
   "id": "e60161b9",
   "metadata": {},
   "outputs": [],
   "source": []
  },
  {
   "cell_type": "code",
   "execution_count": 19,
   "id": "19f35851",
   "metadata": {},
   "outputs": [
    {
     "data": {
      "text/html": [
       "<div>\n",
       "<style scoped>\n",
       "    .dataframe tbody tr th:only-of-type {\n",
       "        vertical-align: middle;\n",
       "    }\n",
       "\n",
       "    .dataframe tbody tr th {\n",
       "        vertical-align: top;\n",
       "    }\n",
       "\n",
       "    .dataframe thead th {\n",
       "        text-align: right;\n",
       "    }\n",
       "</style>\n",
       "<table border=\"1\" class=\"dataframe\">\n",
       "  <thead>\n",
       "    <tr style=\"text-align: right;\">\n",
       "      <th></th>\n",
       "      <th>Age</th>\n",
       "      <th>Quantitative</th>\n",
       "      <th>Verbal</th>\n",
       "      <th>Technical</th>\n",
       "      <th>Interview</th>\n",
       "      <th>Total</th>\n",
       "      <th>Results</th>\n",
       "    </tr>\n",
       "  </thead>\n",
       "  <tbody>\n",
       "    <tr>\n",
       "      <th>Age</th>\n",
       "      <td>1.000000</td>\n",
       "      <td>-0.473600</td>\n",
       "      <td>-0.406232</td>\n",
       "      <td>-0.746494</td>\n",
       "      <td>0.357157</td>\n",
       "      <td>-0.459172</td>\n",
       "      <td>-0.376011</td>\n",
       "    </tr>\n",
       "    <tr>\n",
       "      <th>Quantitative</th>\n",
       "      <td>-0.473600</td>\n",
       "      <td>1.000000</td>\n",
       "      <td>0.363724</td>\n",
       "      <td>0.156132</td>\n",
       "      <td>0.111965</td>\n",
       "      <td>0.760847</td>\n",
       "      <td>0.692700</td>\n",
       "    </tr>\n",
       "    <tr>\n",
       "      <th>Verbal</th>\n",
       "      <td>-0.406232</td>\n",
       "      <td>0.363724</td>\n",
       "      <td>1.000000</td>\n",
       "      <td>0.173896</td>\n",
       "      <td>-0.097736</td>\n",
       "      <td>0.574832</td>\n",
       "      <td>0.448660</td>\n",
       "    </tr>\n",
       "    <tr>\n",
       "      <th>Technical</th>\n",
       "      <td>-0.746494</td>\n",
       "      <td>0.156132</td>\n",
       "      <td>0.173896</td>\n",
       "      <td>1.000000</td>\n",
       "      <td>-0.013119</td>\n",
       "      <td>0.446550</td>\n",
       "      <td>0.046445</td>\n",
       "    </tr>\n",
       "    <tr>\n",
       "      <th>Interview</th>\n",
       "      <td>0.357157</td>\n",
       "      <td>0.111965</td>\n",
       "      <td>-0.097736</td>\n",
       "      <td>-0.013119</td>\n",
       "      <td>1.000000</td>\n",
       "      <td>0.499304</td>\n",
       "      <td>0.500130</td>\n",
       "    </tr>\n",
       "    <tr>\n",
       "      <th>Total</th>\n",
       "      <td>-0.459172</td>\n",
       "      <td>0.760847</td>\n",
       "      <td>0.574832</td>\n",
       "      <td>0.446550</td>\n",
       "      <td>0.499304</td>\n",
       "      <td>1.000000</td>\n",
       "      <td>0.783523</td>\n",
       "    </tr>\n",
       "    <tr>\n",
       "      <th>Results</th>\n",
       "      <td>-0.376011</td>\n",
       "      <td>0.692700</td>\n",
       "      <td>0.448660</td>\n",
       "      <td>0.046445</td>\n",
       "      <td>0.500130</td>\n",
       "      <td>0.783523</td>\n",
       "      <td>1.000000</td>\n",
       "    </tr>\n",
       "  </tbody>\n",
       "</table>\n",
       "</div>"
      ],
      "text/plain": [
       "                   Age  Quantitative    Verbal  Technical  Interview  \\\n",
       "Age           1.000000     -0.473600 -0.406232  -0.746494   0.357157   \n",
       "Quantitative -0.473600      1.000000  0.363724   0.156132   0.111965   \n",
       "Verbal       -0.406232      0.363724  1.000000   0.173896  -0.097736   \n",
       "Technical    -0.746494      0.156132  0.173896   1.000000  -0.013119   \n",
       "Interview     0.357157      0.111965 -0.097736  -0.013119   1.000000   \n",
       "Total        -0.459172      0.760847  0.574832   0.446550   0.499304   \n",
       "Results      -0.376011      0.692700  0.448660   0.046445   0.500130   \n",
       "\n",
       "                 Total   Results  \n",
       "Age          -0.459172 -0.376011  \n",
       "Quantitative  0.760847  0.692700  \n",
       "Verbal        0.574832  0.448660  \n",
       "Technical     0.446550  0.046445  \n",
       "Interview     0.499304  0.500130  \n",
       "Total         1.000000  0.783523  \n",
       "Results       0.783523  1.000000  "
      ]
     },
     "execution_count": 19,
     "metadata": {},
     "output_type": "execute_result"
    }
   ],
   "source": [
    "my_data1.corr(numeric_only=True)\n"
   ]
  },
  {
   "cell_type": "code",
   "execution_count": null,
   "id": "23c106b4",
   "metadata": {},
   "outputs": [],
   "source": []
  },
  {
   "cell_type": "code",
   "execution_count": 20,
   "id": "0ac5d39a",
   "metadata": {},
   "outputs": [
    {
     "data": {
      "text/plain": [
       "0.35715686640193034"
      ]
     },
     "execution_count": 20,
     "metadata": {},
     "output_type": "execute_result"
    }
   ],
   "source": [
    "\n",
    "#Find Correlation between two Continuous Variables\n",
    "my_data1['Age'].corr(my_data1['Interview'])\n"
   ]
  },
  {
   "cell_type": "code",
   "execution_count": null,
   "id": "9ced8a83",
   "metadata": {},
   "outputs": [],
   "source": []
  },
  {
   "cell_type": "code",
   "execution_count": 21,
   "id": "79d5d065",
   "metadata": {},
   "outputs": [
    {
     "data": {
      "text/plain": [
       "Gender\n",
       "Female    195.2\n",
       "Male      173.5\n",
       "Name: Total, dtype: float64"
      ]
     },
     "execution_count": 21,
     "metadata": {},
     "output_type": "execute_result"
    }
   ],
   "source": [
    "\n",
    "my_data1.groupby(\"Gender\")[\"Total\"].mean()"
   ]
  },
  {
   "cell_type": "code",
   "execution_count": null,
   "id": "1ed8e2d6",
   "metadata": {},
   "outputs": [],
   "source": []
  },
  {
   "cell_type": "code",
   "execution_count": 22,
   "id": "762f9257",
   "metadata": {},
   "outputs": [
    {
     "data": {
      "text/plain": [
       "<Axes: xlabel='Gender'>"
      ]
     },
     "execution_count": 22,
     "metadata": {},
     "output_type": "execute_result"
    },
    {
     "data": {
      "image/png": "[encoded data removed]",
      "text/plain": [
       "<Figure size 640x480 with 1 Axes>"
      ]
     },
     "metadata": {},
     "output_type": "display_data"
    }
   ],
   "source": [
    "my_data1.groupby(\"Gender\")[\"Total\"].mean().plot.bar()\n"
   ]
  },
  {
   "cell_type": "code",
   "execution_count": null,
   "id": "2f0d7e3e",
   "metadata": {},
   "outputs": [],
   "source": []
  },
  {
   "cell_type": "code",
   "execution_count": 23,
   "id": "722b9d74",
   "metadata": {},
   "outputs": [
    {
     "data": {
      "text/html": [
       "<div>\n",
       "<style scoped>\n",
       "    .dataframe tbody tr th:only-of-type {\n",
       "        vertical-align: middle;\n",
       "    }\n",
       "\n",
       "    .dataframe tbody tr th {\n",
       "        vertical-align: top;\n",
       "    }\n",
       "\n",
       "    .dataframe thead th {\n",
       "        text-align: right;\n",
       "    }\n",
       "</style>\n",
       "<table border=\"1\" class=\"dataframe\">\n",
       "  <thead>\n",
       "    <tr style=\"text-align: right;\">\n",
       "      <th>Results</th>\n",
       "      <th>0</th>\n",
       "      <th>1</th>\n",
       "    </tr>\n",
       "    <tr>\n",
       "      <th>Gender</th>\n",
       "      <th></th>\n",
       "      <th></th>\n",
       "    </tr>\n",
       "  </thead>\n",
       "  <tbody>\n",
       "    <tr>\n",
       "      <th>Female</th>\n",
       "      <td>2</td>\n",
       "      <td>3</td>\n",
       "    </tr>\n",
       "    <tr>\n",
       "      <th>Male</th>\n",
       "      <td>5</td>\n",
       "      <td>1</td>\n",
       "    </tr>\n",
       "  </tbody>\n",
       "</table>\n",
       "</div>"
      ],
      "text/plain": [
       "Results  0  1\n",
       "Gender       \n",
       "Female   2  3\n",
       "Male     5  1"
      ]
     },
     "execution_count": 23,
     "metadata": {},
     "output_type": "execute_result"
    }
   ],
   "source": [
    "pd.crosstab(my_data1['Gender'],my_data1[\"Results\"])"
   ]
  },
  {
   "cell_type": "code",
   "execution_count": null,
   "id": "c3f92986",
   "metadata": {},
   "outputs": [],
   "source": []
  },
  {
   "cell_type": "code",
   "execution_count": null,
   "id": "a67dfa88",
   "metadata": {},
   "outputs": [],
   "source": []
  }
 ],
 "metadata": {
  "kernelspec": {
   "display_name": "Python 3 (ipykernel)",
   "language": "python",
   "name": "python3"
  },
  "language_info": {
   "codemirror_mode": {
    "name": "ipython",
    "version": 3
   },
   "file_extension": ".py",
   "mimetype": "text/x-python",
   "name": "python",
   "nbconvert_exporter": "python",
   "pygments_lexer": "ipython3",
   "version": "3.11.2"
  }
 },
 "nbformat": 4,
 "nbformat_minor": 5
}
