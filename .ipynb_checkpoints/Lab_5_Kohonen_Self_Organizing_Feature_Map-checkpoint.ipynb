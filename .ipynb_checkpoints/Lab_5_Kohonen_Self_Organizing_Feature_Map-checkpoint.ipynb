{
 "cells": [
  {
   "cell_type": "code",
   "execution_count": 2,
   "id": "4db3b616",
   "metadata": {},
   "outputs": [],
   "source": [
    "import numpy as np\n",
    "import pandas as pd"
   ]
  },
  {
   "cell_type": "code",
   "execution_count": null,
   "id": "6b511a66",
   "metadata": {},
   "outputs": [],
   "source": []
  },
  {
   "cell_type": "code",
   "execution_count": 3,
   "id": "b9c44d30",
   "metadata": {},
   "outputs": [],
   "source": [
    "# Given Weights \n",
    "w1 = [0.2, 0.6, 0.4, 0.9, 0.2]\n",
    "w2 = [0.3, 0.5, 0.7, 0.6, 0.8]\n",
    "\n",
    "# Units\n",
    "x = [0.3, 0.4]\n",
    "\n",
    "# Learning Rate(a):\n",
    "a = 0.3\n"
   ]
  },
  {
   "cell_type": "code",
   "execution_count": null,
   "id": "dacd2911",
   "metadata": {},
   "outputs": [],
   "source": []
  },
  {
   "cell_type": "markdown",
   "id": "73884700",
   "metadata": {},
   "source": [
    "### Find Euclidian Distance"
   ]
  },
  {
   "cell_type": "code",
   "execution_count": 9,
   "id": "0981dfee",
   "metadata": {},
   "outputs": [
    {
     "name": "stdout",
     "output_type": "stream",
     "text": [
      "Minimum Eucledian distance is:  0.020000000000000004\n",
      "Minimum index is:  999\n"
     ]
    }
   ],
   "source": [
    "d = np.empty(5)\n",
    "miniIndex = 9999\n",
    "miniDistance = 9999\n",
    "for i in range(5):\n",
    "    d[i] = (w1[i]-x[0])**2 + (w2[i]-x[1])**2\n",
    "    miniDistance = min(d[i], miniDistance)\n",
    "    miniIndex = i if (d[i]<=miniDistance) else 999\n",
    "\n",
    "print(\"Minimum Eucledian distance is: \", miniDistance)\n",
    "print(\"Minimum index is: \", miniIndex)"
   ]
  },
  {
   "cell_type": "code",
   "execution_count": null,
   "id": "fe65a9ee",
   "metadata": {},
   "outputs": [],
   "source": []
  }
 ],
 "metadata": {
  "kernelspec": {
   "display_name": "Python 3 (ipykernel)",
   "language": "python",
   "name": "python3"
  },
  "language_info": {
   "codemirror_mode": {
    "name": "ipython",
    "version": 3
   },
   "file_extension": ".py",
   "mimetype": "text/x-python",
   "name": "python",
   "nbconvert_exporter": "python",
   "pygments_lexer": "ipython3",
   "version": "3.11.2"
  }
 },
 "nbformat": 4,
 "nbformat_minor": 5
}
