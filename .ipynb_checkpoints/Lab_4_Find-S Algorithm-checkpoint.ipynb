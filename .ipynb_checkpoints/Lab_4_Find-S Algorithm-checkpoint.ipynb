{
 "cells": [
  {
   "cell_type": "code",
   "execution_count": 1,
   "id": "df62a389",
   "metadata": {},
   "outputs": [],
   "source": [
    "import numpy as np\n",
    "import pandas as pd"
   ]
  },
  {
   "cell_type": "code",
   "execution_count": null,
   "id": "eab8d380",
   "metadata": {},
   "outputs": [],
   "source": []
  },
  {
   "cell_type": "code",
   "execution_count": 111,
   "id": "4b27e83d",
   "metadata": {},
   "outputs": [
    {
     "data": {
      "text/html": [
       "<div>\n",
       "<style scoped>\n",
       "    .dataframe tbody tr th:only-of-type {\n",
       "        vertical-align: middle;\n",
       "    }\n",
       "\n",
       "    .dataframe tbody tr th {\n",
       "        vertical-align: top;\n",
       "    }\n",
       "\n",
       "    .dataframe thead th {\n",
       "        text-align: right;\n",
       "    }\n",
       "</style>\n",
       "<table border=\"1\" class=\"dataframe\">\n",
       "  <thead>\n",
       "    <tr style=\"text-align: right;\">\n",
       "      <th></th>\n",
       "      <th>sky</th>\n",
       "      <th>airtemp</th>\n",
       "      <th>humidity</th>\n",
       "      <th>wind</th>\n",
       "      <th>water</th>\n",
       "      <th>forecast</th>\n",
       "      <th>play</th>\n",
       "    </tr>\n",
       "  </thead>\n",
       "  <tbody>\n",
       "    <tr>\n",
       "      <th>0</th>\n",
       "      <td>sunny</td>\n",
       "      <td>warm</td>\n",
       "      <td>normal</td>\n",
       "      <td>strong</td>\n",
       "      <td>warm</td>\n",
       "      <td>same</td>\n",
       "      <td>yes</td>\n",
       "    </tr>\n",
       "    <tr>\n",
       "      <th>1</th>\n",
       "      <td>sunny</td>\n",
       "      <td>warm</td>\n",
       "      <td>high</td>\n",
       "      <td>strong</td>\n",
       "      <td>warm</td>\n",
       "      <td>same</td>\n",
       "      <td>yes</td>\n",
       "    </tr>\n",
       "    <tr>\n",
       "      <th>2</th>\n",
       "      <td>rainy</td>\n",
       "      <td>cold</td>\n",
       "      <td>normal</td>\n",
       "      <td>strong</td>\n",
       "      <td>warm</td>\n",
       "      <td>change</td>\n",
       "      <td>no</td>\n",
       "    </tr>\n",
       "    <tr>\n",
       "      <th>3</th>\n",
       "      <td>sunny</td>\n",
       "      <td>warm</td>\n",
       "      <td>high</td>\n",
       "      <td>strong</td>\n",
       "      <td>cool</td>\n",
       "      <td>change</td>\n",
       "      <td>yes</td>\n",
       "    </tr>\n",
       "  </tbody>\n",
       "</table>\n",
       "</div>"
      ],
      "text/plain": [
       "     sky airtemp humidity    wind water forecast play\n",
       "0  sunny    warm   normal  strong  warm     same  yes\n",
       "1  sunny    warm     high  strong  warm     same  yes\n",
       "2  rainy    cold   normal  strong  warm   change   no\n",
       "3  sunny    warm     high  strong  cool   change  yes"
      ]
     },
     "execution_count": 111,
     "metadata": {},
     "output_type": "execute_result"
    }
   ],
   "source": [
    "df = pd.read_csv(r'DataSets/finds.csv')\n",
    "df.head()"
   ]
  },
  {
   "cell_type": "code",
   "execution_count": null,
   "id": "3b0f2af7",
   "metadata": {},
   "outputs": [],
   "source": []
  },
  {
   "cell_type": "code",
   "execution_count": 112,
   "id": "107b1bca",
   "metadata": {},
   "outputs": [
    {
     "name": "stdout",
     "output_type": "stream",
     "text": [
      "All input parameters are: \n",
      "['sunny' 'warm' 'normal' 'strong' 'warm' 'same']\n",
      "['sunny' 'warm' 'high' 'strong' 'warm' 'same']\n",
      "['rainy' 'cold' 'normal' 'strong' 'warm' 'change']\n",
      "['sunny' 'warm' 'high' 'strong' 'cool' 'change']\n",
      "\n",
      "Target column is: \n",
      "yes\n",
      "yes\n",
      "no\n",
      "yes\n"
     ]
    }
   ],
   "source": [
    "df1 = df.to_numpy()\n",
    "X = df1[0][0:6]\n",
    "Y = df1[0][-1]\n",
    "\n",
    "print(\"All input parameters are: \")\n",
    "for i in range(4):\n",
    "    print(df1[i][0:6])\n",
    "    \n",
    "print(\"\\nTarget column is: \")\n",
    "for i in range(4):\n",
    "    print(df1[i][-1])\n"
   ]
  },
  {
   "cell_type": "code",
   "execution_count": null,
   "id": "e9300fc6",
   "metadata": {},
   "outputs": [],
   "source": []
  },
  {
   "cell_type": "code",
   "execution_count": 113,
   "id": "7c53cbb3",
   "metadata": {},
   "outputs": [
    {
     "name": "stdout",
     "output_type": "stream",
     "text": [
      "Initialized h0 is:  ['sunny' 'warm' 'normal' 'strong' 'warm' 'same']\n",
      "\n",
      "For row number:  1  feature ( df1[i][j]):  high  and h[j] is:  normal\n",
      "['sunny' 'warm' '?' 'strong' 'warm' 'same']\n",
      "\n",
      "For row number:  3  feature ( df1[i][j]):  cool  and h[j] is:  warm\n",
      "['sunny' 'warm' '?' 'strong' '?' 'same']\n",
      "\n",
      "For row number:  3  feature ( df1[i][j]):  change  and h[j] is:  same\n",
      "['sunny' 'warm' '?' 'strong' '?' '?']\n"
     ]
    }
   ],
   "source": [
    "# Initializing the most specific hypothesis:\n",
    "h = df1[0][0:6]\n",
    "print(\"Initialized h0 is: \", h)\n",
    "\n",
    "\n",
    "#Iterating over all rows:\n",
    "for i in range(4):\n",
    "    # Only considering +ve example\n",
    "    if(df1[i][-1] == 'yes'):\n",
    "        # Iterative over all features of a specific row\n",
    "        for j in range(6):\n",
    "            if(df1[i][j] != h[j] and h[j] != '?'):\n",
    "                print(\"\\nFor row number: \",i, \" feature ( df1[i][j]): \", df1[i][j], \" and h[j] is: \", h[j])\n",
    "                h[j] = '?'\n",
    "                print(h)\n",
    "\n",
    "\n"
   ]
  },
  {
   "cell_type": "code",
   "execution_count": null,
   "id": "f8ea1fa2",
   "metadata": {},
   "outputs": [],
   "source": []
  }
 ],
 "metadata": {
  "kernelspec": {
   "display_name": "Python 3 (ipykernel)",
   "language": "python",
   "name": "python3"
  },
  "language_info": {
   "codemirror_mode": {
    "name": "ipython",
    "version": 3
   },
   "file_extension": ".py",
   "mimetype": "text/x-python",
   "name": "python",
   "nbconvert_exporter": "python",
   "pygments_lexer": "ipython3",
   "version": "3.11.2"
  }
 },
 "nbformat": 4,
 "nbformat_minor": 5
}
