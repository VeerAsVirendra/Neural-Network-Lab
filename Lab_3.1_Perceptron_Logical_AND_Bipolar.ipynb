{
 "cells": [
  {
   "cell_type": "code",
   "execution_count": 2,
   "id": "8646e73b",
   "metadata": {},
   "outputs": [],
   "source": [
    "import numpy as np"
   ]
  },
  {
   "cell_type": "code",
   "execution_count": null,
   "id": "15017429",
   "metadata": {},
   "outputs": [],
   "source": []
  },
  {
   "cell_type": "markdown",
   "id": "6240dcb6",
   "metadata": {},
   "source": [
    "### 1. Put input and targets into table"
   ]
  },
  {
   "cell_type": "code",
   "execution_count": 5,
   "id": "f24c5ad2",
   "metadata": {},
   "outputs": [],
   "source": [
    "x = np.array([[1,1],\n",
    "             [-1,1],\n",
    "             [1,-1],\n",
    "             [-1,-1]])\n",
    "\n",
    "t = np.array([1,1,1,-1])\n",
    "\n",
    "w = np.array([0,0])\n",
    "\n",
    "b = 0\n",
    "a = 1"
   ]
  },
  {
   "cell_type": "code",
   "execution_count": null,
   "id": "1eb55b9b",
   "metadata": {
    "scrolled": false
   },
   "outputs": [],
   "source": []
  },
  {
   "cell_type": "markdown",
   "id": "fb9f9498",
   "metadata": {},
   "source": []
  },
  {
   "cell_type": "code",
   "execution_count": null,
   "id": "afcec5db",
   "metadata": {},
   "outputs": [],
   "source": []
  },
  {
   "cell_type": "code",
   "execution_count": 12,
   "id": "0f94df98",
   "metadata": {
    "scrolled": true
   },
   "outputs": [],
   "source": [
    "# Calculating yin and updating weights:\n",
    "for i in range(4):\n",
    "    yin = np.dot(x[i], w) + b\n",
    "    \n",
    "    if(i<3):\n",
    "        w[0] = w[0] + a*x[i][0]*t[i]\n",
    "        w[1] = w[1] + a*x[i][1]*t[i]\n",
    "        b = b + a*t[i]"
   ]
  },
  {
   "cell_type": "code",
   "execution_count": null,
   "id": "6a0a9f4b",
   "metadata": {},
   "outputs": [],
   "source": []
  },
  {
   "cell_type": "code",
   "execution_count": 8,
   "id": "76f2daf0",
   "metadata": {},
   "outputs": [
    {
     "name": "stdout",
     "output_type": "stream",
     "text": [
      "w0 is:  1 ; w1 is:  1\n",
      "b is:  3\n",
      "\n"
     ]
    }
   ],
   "source": [
    "# So we get the final weights and bias as:-\n",
    "print(\"w0 is: \", w[0], \"; w1 is: \", w[1])\n",
    "print(\"b is: \",b)\n",
    "print()"
   ]
  },
  {
   "cell_type": "code",
   "execution_count": null,
   "id": "b17cee91",
   "metadata": {},
   "outputs": [],
   "source": []
  },
  {
   "cell_type": "code",
   "execution_count": 11,
   "id": "7bd7ed7e",
   "metadata": {},
   "outputs": [
    {
     "name": "stdout",
     "output_type": "stream",
     "text": [
      "Final OR equation is: \n",
      "1X1 + 1X2 + 3\n"
     ]
    }
   ],
   "source": [
    "print(\"Final OR equation is: \")\n",
    "print(f\"{w[0]}X1 + {w[1]}X2 + {b}\")"
   ]
  },
  {
   "cell_type": "code",
   "execution_count": null,
   "id": "e4ba21cf",
   "metadata": {},
   "outputs": [],
   "source": []
  },
  {
   "cell_type": "code",
   "execution_count": null,
   "id": "709db533",
   "metadata": {},
   "outputs": [],
   "source": []
  }
 ],
 "metadata": {
  "kernelspec": {
   "display_name": "Python 3 (ipykernel)",
   "language": "python",
   "name": "python3"
  },
  "language_info": {
   "codemirror_mode": {
    "name": "ipython",
    "version": 3
   },
   "file_extension": ".py",
   "mimetype": "text/x-python",
   "name": "python",
   "nbconvert_exporter": "python",
   "pygments_lexer": "ipython3",
   "version": "3.11.2"
  }
 },
 "nbformat": 4,
 "nbformat_minor": 5
}
